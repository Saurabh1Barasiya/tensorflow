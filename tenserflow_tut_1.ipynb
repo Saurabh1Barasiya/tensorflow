{
  "nbformat": 4,
  "nbformat_minor": 0,
  "metadata": {
    "colab": {
      "name": "tenserflow_tut_1.ipynb",
      "provenance": []
    },
    "kernelspec": {
      "name": "python3",
      "display_name": "Python 3"
    }
  },
  "cells": [
    {
      "cell_type": "code",
      "metadata": {
        "id": "Wcsb0lcGg2I9",
        "colab_type": "code",
        "colab": {}
      },
      "source": [
        "import tensorflow as tf"
      ],
      "execution_count": 1,
      "outputs": []
    },
    {
      "cell_type": "markdown",
      "metadata": {
        "id": "DY-l6E3NhRW-",
        "colab_type": "text"
      },
      "source": [
        "# TO cheack version "
      ]
    },
    {
      "cell_type": "code",
      "metadata": {
        "id": "bhU6uLCThLEm",
        "colab_type": "code",
        "colab": {
          "base_uri": "https://localhost:8080/",
          "height": 51
        },
        "outputId": "40d45115-5676-4aa5-fd0c-178c7884b519"
      },
      "source": [
        "print(\"tensorflow version\",tf.__version__)\n",
        "print(\"keras version\",tf.keras.__version__)"
      ],
      "execution_count": 4,
      "outputs": [
        {
          "output_type": "stream",
          "text": [
            "tensorflow version 2.2.0\n",
            "keras version 2.3.0-tf\n"
          ],
          "name": "stdout"
        }
      ]
    },
    {
      "cell_type": "markdown",
      "metadata": {
        "id": "Cz_zqDUUjLPW",
        "colab_type": "text"
      },
      "source": [
        "# GPU/CPU cheack"
      ]
    },
    {
      "cell_type": "code",
      "metadata": {
        "id": "hqanZwb9hPGt",
        "colab_type": "code",
        "colab": {
          "base_uri": "https://localhost:8080/",
          "height": 105
        },
        "outputId": "85f1d59d-5d3c-4b24-966c-1a09632b55fb"
      },
      "source": [
        "variavle = tf.Variable([3,3])\n",
        "if tf.test.is_gpu_available():\n",
        "    print('GPU')\n",
        "    print('GPU #0?')\n",
        "    print(var.device.endswith('GPU:0'))\n",
        "else:\n",
        "  print('CPU') "
      ],
      "execution_count": 5,
      "outputs": [
        {
          "output_type": "stream",
          "text": [
            "WARNING:tensorflow:From <ipython-input-5-599648d4a1f4>:2: is_gpu_available (from tensorflow.python.framework.test_util) is deprecated and will be removed in a future version.\n",
            "Instructions for updating:\n",
            "Use `tf.config.list_physical_devices('GPU')` instead.\n",
            "CPU\n"
          ],
          "name": "stdout"
        }
      ]
    },
    {
      "cell_type": "code",
      "metadata": {
        "id": "NE_doZaejQN7",
        "colab_type": "code",
        "colab": {
          "base_uri": "https://localhost:8080/",
          "height": 34
        },
        "outputId": "ee57d399-60c2-4c09-9cd9-23d115c47556"
      },
      "source": [
        "variable = tf.Variable([3,3])\n",
        "if tf.config.list_physical_devices('GPU'):\n",
        "    print('GPU')\n",
        "    print('GPU #0?')\n",
        "    print(var.device.endswith('GPU:0'))\n",
        "else:\n",
        "  print('CPU') "
      ],
      "execution_count": 9,
      "outputs": [
        {
          "output_type": "stream",
          "text": [
            "CPU\n"
          ],
          "name": "stdout"
        }
      ]
    },
    {
      "cell_type": "code",
      "metadata": {
        "id": "BviNongQkMu5",
        "colab_type": "code",
        "colab": {}
      },
      "source": [
        "# so here we using cpu"
      ],
      "execution_count": 7,
      "outputs": []
    },
    {
      "cell_type": "code",
      "metadata": {
        "id": "Rjb0sfsClCiD",
        "colab_type": "code",
        "colab": {
          "base_uri": "https://localhost:8080/",
          "height": 34
        },
        "outputId": "c7c908e7-7754-4a4b-ee05-129b8c03afed"
      },
      "source": [
        "variable"
      ],
      "execution_count": 10,
      "outputs": [
        {
          "output_type": "execute_result",
          "data": {
            "text/plain": [
              "<tf.Variable 'Variable:0' shape=(2,) dtype=int32, numpy=array([3, 3], dtype=int32)>"
            ]
          },
          "metadata": {
            "tags": []
          },
          "execution_count": 10
        }
      ]
    },
    {
      "cell_type": "code",
      "metadata": {
        "id": "2WPsx9dpkYsj",
        "colab_type": "code",
        "colab": {}
      },
      "source": [
        ""
      ],
      "execution_count": null,
      "outputs": []
    },
    {
      "cell_type": "markdown",
      "metadata": {
        "id": "fuP8SavDlSU3",
        "colab_type": "text"
      },
      "source": [
        "# Variable can be changed but constent not \n",
        "# so we create variable as well as constent "
      ]
    },
    {
      "cell_type": "code",
      "metadata": {
        "id": "hnI6ytpwlce-",
        "colab_type": "code",
        "colab": {
          "base_uri": "https://localhost:8080/",
          "height": 34
        },
        "outputId": "8b0bb001-e0cf-47b8-c736-10e4dc45ae0b"
      },
      "source": [
        "ineoron = tf.constant(42) \n",
        "print(ineoron)"
      ],
      "execution_count": 13,
      "outputs": [
        {
          "output_type": "stream",
          "text": [
            "tf.Tensor(42, shape=(), dtype=int32)\n"
          ],
          "name": "stdout"
        }
      ]
    },
    {
      "cell_type": "code",
      "metadata": {
        "id": "nSF6hv1zlqN8",
        "colab_type": "code",
        "colab": {
          "base_uri": "https://localhost:8080/",
          "height": 34
        },
        "outputId": "83c1ea4d-dcf9-4eda-f6cb-13803456d66f"
      },
      "source": [
        "ineoron.dtype,ineoron.shape,ineoron.numpy()"
      ],
      "execution_count": 17,
      "outputs": [
        {
          "output_type": "execute_result",
          "data": {
            "text/plain": [
              "(tf.int32, TensorShape([]), 42)"
            ]
          },
          "metadata": {
            "tags": []
          },
          "execution_count": 17
        }
      ]
    },
    {
      "cell_type": "code",
      "metadata": {
        "id": "Jk2MM9L9l_7d",
        "colab_type": "code",
        "colab": {
          "base_uri": "https://localhost:8080/",
          "height": 34
        },
        "outputId": "9c80bb7e-c283-4e9e-ff30-989d8e81bc21"
      },
      "source": [
        "ineoron.numpy()"
      ],
      "execution_count": 18,
      "outputs": [
        {
          "output_type": "execute_result",
          "data": {
            "text/plain": [
              "42"
            ]
          },
          "metadata": {
            "tags": []
          },
          "execution_count": 18
        }
      ]
    },
    {
      "cell_type": "code",
      "metadata": {
        "id": "hfparvt6mUvs",
        "colab_type": "code",
        "colab": {
          "base_uri": "https://localhost:8080/",
          "height": 34
        },
        "outputId": "c5c2a748-d50d-46e5-e949-c50246dd45ec"
      },
      "source": [
        "ineouron1 = tf.constant(1,dtype='float64') \n",
        "print(ineouron1)"
      ],
      "execution_count": 21,
      "outputs": [
        {
          "output_type": "stream",
          "text": [
            "tf.Tensor(1.0, shape=(), dtype=float64)\n"
          ],
          "name": "stdout"
        }
      ]
    },
    {
      "cell_type": "code",
      "metadata": {
        "id": "oRTGQaKlmjBb",
        "colab_type": "code",
        "colab": {
          "base_uri": "https://localhost:8080/",
          "height": 68
        },
        "outputId": "cddd1fc3-ac42-4ba2-aa4a-8717a09089f1"
      },
      "source": [
        "print(ineouron1.numpy())\n",
        "print(ineouron1.shape)\n",
        "print(ineouron1.dtype)"
      ],
      "execution_count": 24,
      "outputs": [
        {
          "output_type": "stream",
          "text": [
            "1.0\n",
            "()\n",
            "<dtype: 'float64'>\n"
          ],
          "name": "stdout"
        }
      ]
    },
    {
      "cell_type": "code",
      "metadata": {
        "id": "3isb0zO-m9SV",
        "colab_type": "code",
        "colab": {}
      },
      "source": [
        "ineouron2 = tf.constant([[4,5],[9,5]]) "
      ],
      "execution_count": 26,
      "outputs": []
    },
    {
      "cell_type": "code",
      "metadata": {
        "id": "J5L1WLWmnnXa",
        "colab_type": "code",
        "colab": {
          "base_uri": "https://localhost:8080/",
          "height": 85
        },
        "outputId": "bc356c44-af14-4ba7-cbd6-b5c435164926"
      },
      "source": [
        "print(\"Dimension  is :  \", ineouron2.ndim)\n",
        "print(\"value  is  :  \", ineouron2.numpy())\n",
        "print(type(ineouron2))"
      ],
      "execution_count": 31,
      "outputs": [
        {
          "output_type": "stream",
          "text": [
            "Dimension  is :   2\n",
            "value  is  :   [[4 5]\n",
            " [9 5]]\n",
            "<class 'tensorflow.python.framework.ops.EagerTensor'>\n"
          ],
          "name": "stdout"
        }
      ]
    },
    {
      "cell_type": "code",
      "metadata": {
        "id": "ZRRGIEyWnwMs",
        "colab_type": "code",
        "colab": {
          "base_uri": "https://localhost:8080/",
          "height": 34
        },
        "outputId": "e67f809d-1880-47e9-8569-9e3c704e5187"
      },
      "source": [
        "print(type(variable))"
      ],
      "execution_count": 32,
      "outputs": [
        {
          "output_type": "stream",
          "text": [
            "<class 'tensorflow.python.ops.resource_variable_ops.ResourceVariable'>\n"
          ],
          "name": "stdout"
        }
      ]
    },
    {
      "cell_type": "markdown",
      "metadata": {
        "id": "6gS6Pl-2paPU",
        "colab_type": "text"
      },
      "source": [
        "# in python we directly create variable but in tensornflow we can't   so we use Variable() "
      ]
    },
    {
      "cell_type": "code",
      "metadata": {
        "id": "rIbBoZSOotO8",
        "colab_type": "code",
        "colab": {
          "base_uri": "https://localhost:8080/",
          "height": 68
        },
        "outputId": "c8a51efd-0a1b-4996-9299-b7daa3a2569e"
      },
      "source": [
        "#  constant tensor\n",
        "ineouron_x = tf.constant([[4,5],[5,6]])\n",
        "ineouron_x"
      ],
      "execution_count": 33,
      "outputs": [
        {
          "output_type": "execute_result",
          "data": {
            "text/plain": [
              "<tf.Tensor: shape=(2, 2), dtype=int32, numpy=\n",
              "array([[4, 5],\n",
              "       [5, 6]], dtype=int32)>"
            ]
          },
          "metadata": {
            "tags": []
          },
          "execution_count": 33
        }
      ]
    },
    {
      "cell_type": "code",
      "metadata": {
        "id": "dQm45azRqGkk",
        "colab_type": "code",
        "colab": {
          "base_uri": "https://localhost:8080/",
          "height": 85
        },
        "outputId": "0b5b4358-379d-4b7a-8f65-f3c30e0b87d4"
      },
      "source": [
        "print(ineouron_x.ndim)\n",
        "print(ineouron_x.shape)\n",
        "print(ineouron_x.numpy())"
      ],
      "execution_count": 36,
      "outputs": [
        {
          "output_type": "stream",
          "text": [
            "2\n",
            "(2, 2)\n",
            "[[4 5]\n",
            " [5 6]]\n"
          ],
          "name": "stdout"
        }
      ]
    },
    {
      "cell_type": "markdown",
      "metadata": {
        "id": "Fm7A0oyEqoFb",
        "colab_type": "text"
      },
      "source": [
        "# commonly method to genrate ones and zeros constant"
      ]
    },
    {
      "cell_type": "code",
      "metadata": {
        "id": "3879HwO_qQ0C",
        "colab_type": "code",
        "colab": {
          "base_uri": "https://localhost:8080/",
          "height": 68
        },
        "outputId": "6f72cdc2-4c39-4668-a45b-1a2cfa2eb096"
      },
      "source": [
        "print(tf.ones((2,3)))"
      ],
      "execution_count": 37,
      "outputs": [
        {
          "output_type": "stream",
          "text": [
            "tf.Tensor(\n",
            "[[1. 1. 1.]\n",
            " [1. 1. 1.]], shape=(2, 3), dtype=float32)\n"
          ],
          "name": "stdout"
        }
      ]
    },
    {
      "cell_type": "code",
      "metadata": {
        "id": "VU7HaOF8r_c_",
        "colab_type": "code",
        "colab": {
          "base_uri": "https://localhost:8080/",
          "height": 102
        },
        "outputId": "3108f226-1bd3-4774-ac8d-49416a28d3aa"
      },
      "source": [
        "zero =  tf.zeros((2,3)) \n",
        "print(zero.shape)\n",
        "print(zero.ndim)\n",
        "print(zero.numpy())\n",
        "print(type(zero)) "
      ],
      "execution_count": 44,
      "outputs": [
        {
          "output_type": "stream",
          "text": [
            "(2, 3)\n",
            "2\n",
            "[[0. 0. 0.]\n",
            " [0. 0. 0.]]\n",
            "<class 'tensorflow.python.framework.ops.EagerTensor'>\n"
          ],
          "name": "stdout"
        }
      ]
    },
    {
      "cell_type": "markdown",
      "metadata": {
        "id": "RjDWCNhAtOwA",
        "colab_type": "text"
      },
      "source": [
        "# EagerTensor means constant"
      ]
    },
    {
      "cell_type": "code",
      "metadata": {
        "id": "d3s6bcytsqN3",
        "colab_type": "code",
        "colab": {
          "base_uri": "https://localhost:8080/",
          "height": 68
        },
        "outputId": "3371df38-c004-4ab2-f291-618b6e044607"
      },
      "source": [
        "cons1 = tf.constant([1,2,3])\n",
        "cons2 = tf.constant([4,5,6])\n",
        "print(cons1)\n",
        "print(cons2)\n",
        "print(type(cons1))"
      ],
      "execution_count": 46,
      "outputs": [
        {
          "output_type": "stream",
          "text": [
            "tf.Tensor([1 2 3], shape=(3,), dtype=int32)\n",
            "tf.Tensor([4 5 6], shape=(3,), dtype=int32)\n",
            "<class 'tensorflow.python.framework.ops.EagerTensor'>\n"
          ],
          "name": "stdout"
        }
      ]
    },
    {
      "cell_type": "code",
      "metadata": {
        "id": "0igxAfrDtt1-",
        "colab_type": "code",
        "colab": {
          "base_uri": "https://localhost:8080/",
          "height": 68
        },
        "outputId": "fa64bc78-fee9-4552-af0b-a9d7811f5ae5"
      },
      "source": [
        "result = tf.add(cons1,cons2) \n",
        "print(result)\n",
        "print(type(result))   # EagerTensor means constant \n",
        "print(result.numpy())"
      ],
      "execution_count": 52,
      "outputs": [
        {
          "output_type": "stream",
          "text": [
            "tf.Tensor([5 7 9], shape=(3,), dtype=int32)\n",
            "<class 'tensorflow.python.framework.ops.EagerTensor'>\n",
            "[5 7 9]\n"
          ],
          "name": "stdout"
        }
      ]
    },
    {
      "cell_type": "code",
      "metadata": {
        "id": "pvVOlSxtt74v",
        "colab_type": "code",
        "colab": {
          "base_uri": "https://localhost:8080/",
          "height": 68
        },
        "outputId": "d8717e55-4537-46b5-fe5e-dba448f2fad5"
      },
      "source": [
        "cons1 = tf.constant([[1,2,3],[4,5,6]])\n",
        "cons2 = tf.constant([[1,2,3],[4,5,6]]) \n",
        "result = tf.add(cons1,cons2)\n",
        "print(result)"
      ],
      "execution_count": 53,
      "outputs": [
        {
          "output_type": "stream",
          "text": [
            "tf.Tensor(\n",
            "[[ 2  4  6]\n",
            " [ 8 10 12]], shape=(2, 3), dtype=int32)\n"
          ],
          "name": "stdout"
        }
      ]
    },
    {
      "cell_type": "markdown",
      "metadata": {
        "id": "x5yjNYd8vfO8",
        "colab_type": "text"
      },
      "source": [
        "# Random constant"
      ]
    },
    {
      "cell_type": "code",
      "metadata": {
        "id": "D5zWKdCvvIQl",
        "colab_type": "code",
        "colab": {
          "base_uri": "https://localhost:8080/",
          "height": 68
        },
        "outputId": "d5a59060-fcbf-46e6-8b73-c3119d3594bd"
      },
      "source": [
        "nor =  tf.random.normal(shape=(2,3),mean=0.0,stddev=1.0)\n",
        "print(nor)"
      ],
      "execution_count": 54,
      "outputs": [
        {
          "output_type": "stream",
          "text": [
            "tf.Tensor(\n",
            "[[-0.02249253  0.5637521  -0.58584976]\n",
            " [-0.8418973  -1.1369345   0.0436615 ]], shape=(2, 3), dtype=float32)\n"
          ],
          "name": "stdout"
        }
      ]
    },
    {
      "cell_type": "code",
      "metadata": {
        "id": "NlUXArjrvzHz",
        "colab_type": "code",
        "colab": {}
      },
      "source": [
        "sum = 0\n",
        "l = []\n",
        "for i in nor.numpy():\n",
        "   for value in i:\n",
        "       l.append(value)"
      ],
      "execution_count": 65,
      "outputs": []
    },
    {
      "cell_type": "code",
      "metadata": {
        "id": "TIGNehFgv2rx",
        "colab_type": "code",
        "colab": {
          "base_uri": "https://localhost:8080/",
          "height": 51
        },
        "outputId": "7d0329cc-7de3-43e7-8f8e-2fee6f5c9e08"
      },
      "source": [
        "import numpy as np \n",
        "ar = np.array(l)\n",
        "print(ar.mean())\n",
        "print(ar.std())"
      ],
      "execution_count": 71,
      "outputs": [
        {
          "output_type": "stream",
          "text": [
            "-0.32996008\n",
            "0.5790247\n"
          ],
          "name": "stdout"
        }
      ]
    },
    {
      "cell_type": "code",
      "metadata": {
        "id": "5X3mHurWxch0",
        "colab_type": "code",
        "colab": {
          "base_uri": "https://localhost:8080/",
          "height": 85
        },
        "outputId": "0bca0c68-8ec3-4ec0-9607-b3affce82ffc"
      },
      "source": [
        "uni = tf.random.uniform((2,3),minval=0,maxval=10,dtype='float64')\n",
        "print(uni) \n",
        "print(type(uni)) "
      ],
      "execution_count": 73,
      "outputs": [
        {
          "output_type": "stream",
          "text": [
            "tf.Tensor(\n",
            "[[2.89864807 6.0057023  0.31824391]\n",
            " [9.07214495 6.91008108 5.46275611]], shape=(2, 3), dtype=float64)\n",
            "<class 'tensorflow.python.framework.ops.EagerTensor'>\n"
          ],
          "name": "stdout"
        }
      ]
    },
    {
      "cell_type": "markdown",
      "metadata": {
        "id": "JUTwTWNjze2E",
        "colab_type": "text"
      },
      "source": [
        "# Declaring  Variable"
      ]
    },
    {
      "cell_type": "code",
      "metadata": {
        "id": "go9clda9zKMH",
        "colab_type": "code",
        "colab": {}
      },
      "source": [
        "var0 = 24   # python variable\n",
        "var1 = tf.Variable(24)   # rank 0\n",
        "var2 = tf.Variable([[[1,2,3],[4,5,6],[7,8,9]]]) "
      ],
      "execution_count": 83,
      "outputs": []
    },
    {
      "cell_type": "code",
      "metadata": {
        "id": "jYEwTb5X0W8J",
        "colab_type": "code",
        "colab": {
          "base_uri": "https://localhost:8080/",
          "height": 85
        },
        "outputId": "809e96ab-2a9d-4b1d-98b5-c732c29acb1b"
      },
      "source": [
        "print(var0)\n",
        "print(var1)\n",
        "print(type(var1))\n",
        "print(var1.numpy())\n"
      ],
      "execution_count": 81,
      "outputs": [
        {
          "output_type": "stream",
          "text": [
            "24\n",
            "<tf.Variable 'Variable:0' shape=() dtype=int32, numpy=24>\n",
            "<class 'tensorflow.python.ops.resource_variable_ops.ResourceVariable'>\n",
            "24\n"
          ],
          "name": "stdout"
        }
      ]
    },
    {
      "cell_type": "code",
      "metadata": {
        "id": "ePSxhMYQ0Yh_",
        "colab_type": "code",
        "colab": {
          "base_uri": "https://localhost:8080/",
          "height": 119
        },
        "outputId": "8a344430-3be6-4d79-c9c1-e7e8199aa63d"
      },
      "source": [
        "var0,var1,var2"
      ],
      "execution_count": 85,
      "outputs": [
        {
          "output_type": "execute_result",
          "data": {
            "text/plain": [
              "(24,\n",
              " <tf.Variable 'Variable:0' shape=() dtype=int32, numpy=24>,\n",
              " <tf.Variable 'Variable:0' shape=(1, 3, 3) dtype=int32, numpy=\n",
              " array([[[1, 2, 3],\n",
              "         [4, 5, 6],\n",
              "         [7, 8, 9]]], dtype=int32)>)"
            ]
          },
          "metadata": {
            "tags": []
          },
          "execution_count": 85
        }
      ]
    },
    {
      "cell_type": "code",
      "metadata": {
        "id": "zOxxEkm11PA4",
        "colab_type": "code",
        "colab": {
          "base_uri": "https://localhost:8080/",
          "height": 34
        },
        "outputId": "4309faed-f688-49a6-9039-d61aadabccf1"
      },
      "source": [
        "val = tf.Variable(89,dtype='float64') \n",
        "print(val.numpy())  "
      ],
      "execution_count": 87,
      "outputs": [
        {
          "output_type": "stream",
          "text": [
            "89.0\n"
          ],
          "name": "stdout"
        }
      ]
    },
    {
      "cell_type": "markdown",
      "metadata": {
        "id": "j3T5qxvt2HwH",
        "colab_type": "text"
      },
      "source": [
        ""
      ]
    },
    {
      "cell_type": "markdown",
      "metadata": {
        "id": "YYU1bv5P2JpS",
        "colab_type": "text"
      },
      "source": [
        "# to reassign variable use var.assign() "
      ]
    },
    {
      "cell_type": "code",
      "metadata": {
        "id": "PRnIlYCR10pJ",
        "colab_type": "code",
        "colab": {
          "base_uri": "https://localhost:8080/",
          "height": 34
        },
        "outputId": "1ba26488-b56f-4bec-c210-661f268c6b0c"
      },
      "source": [
        "var_reassign = tf.Variable(98.0) \n",
        "var_reassign = 100    \n",
        "print(var_reassign)\n",
        "\n",
        "# so thos is not assignment "
      ],
      "execution_count": 92,
      "outputs": [
        {
          "output_type": "stream",
          "text": [
            "100\n"
          ],
          "name": "stdout"
        }
      ]
    },
    {
      "cell_type": "code",
      "metadata": {
        "id": "S-Nc1b4C2FHH",
        "colab_type": "code",
        "colab": {
          "base_uri": "https://localhost:8080/",
          "height": 51
        },
        "outputId": "9343c282-041d-4da9-954c-91667034c257"
      },
      "source": [
        "var_reassign = tf.Variable(98.0) \n",
        "var_reassign.assign(100)\n",
        "print(var_reassign)\n",
        "print(var_reassign.numpy())  # so  this is assignment "
      ],
      "execution_count": 95,
      "outputs": [
        {
          "output_type": "stream",
          "text": [
            "<tf.Variable 'Variable:0' shape=() dtype=float32, numpy=100.0>\n",
            "100.0\n"
          ],
          "name": "stdout"
        }
      ]
    },
    {
      "cell_type": "code",
      "metadata": {
        "id": "KZs5U_rk3Jzi",
        "colab_type": "code",
        "colab": {
          "base_uri": "https://localhost:8080/",
          "height": 68
        },
        "outputId": "bb297232-6ca5-4f57-a0fa-0ed77ff50a7f"
      },
      "source": [
        "initial_value = tf.random.normal((2,3)) \n",
        "a = tf.Variable(initial_value) \n",
        "print(type(a))\n",
        "a.numpy()"
      ],
      "execution_count": 99,
      "outputs": [
        {
          "output_type": "stream",
          "text": [
            "<class 'tensorflow.python.ops.resource_variable_ops.ResourceVariable'>\n"
          ],
          "name": "stdout"
        },
        {
          "output_type": "execute_result",
          "data": {
            "text/plain": [
              "array([[-1.146671  , -1.421821  , -0.21343577],\n",
              "       [-0.29796645, -1.4594502 ,  1.360646  ]], dtype=float32)"
            ]
          },
          "metadata": {
            "tags": []
          },
          "execution_count": 99
        }
      ]
    },
    {
      "cell_type": "markdown",
      "metadata": {
        "id": "TghA9H7n4cgy",
        "colab_type": "text"
      },
      "source": [
        "# Assign and add "
      ]
    },
    {
      "cell_type": "code",
      "metadata": {
        "id": "M_upLD8X3tV5",
        "colab_type": "code",
        "colab": {}
      },
      "source": [
        "new_value = tf.random.normal((2,3))"
      ],
      "execution_count": 100,
      "outputs": []
    },
    {
      "cell_type": "code",
      "metadata": {
        "id": "SM_zRrfy5HwL",
        "colab_type": "code",
        "colab": {
          "base_uri": "https://localhost:8080/",
          "height": 68
        },
        "outputId": "41833a5d-e5fe-4d14-c55d-0ce2d4a7e261"
      },
      "source": [
        "a.assign(new_value) \n",
        "a "
      ],
      "execution_count": 101,
      "outputs": [
        {
          "output_type": "execute_result",
          "data": {
            "text/plain": [
              "<tf.Variable 'Variable:0' shape=(2, 3) dtype=float32, numpy=\n",
              "array([[-1.483324  , -0.31522927,  1.2857589 ],\n",
              "       [ 1.0885727 ,  1.0435888 , -0.12965886]], dtype=float32)>"
            ]
          },
          "metadata": {
            "tags": []
          },
          "execution_count": 101
        }
      ]
    },
    {
      "cell_type": "code",
      "metadata": {
        "id": "bnnN58nw5OVL",
        "colab_type": "code",
        "colab": {
          "base_uri": "https://localhost:8080/",
          "height": 68
        },
        "outputId": "1b578797-ea6c-495d-8eed-0c40d83df87c"
      },
      "source": [
        "added_value = tf.random.normal((2,3))\n",
        "a.assign_add(added_value)\n",
        "print(\"Addtion result is\",a) "
      ],
      "execution_count": 102,
      "outputs": [
        {
          "output_type": "stream",
          "text": [
            "Addtion result is <tf.Variable 'Variable:0' shape=(2, 3) dtype=float32, numpy=\n",
            "array([[-1.9478459 , -1.1061342 ,  0.56697786],\n",
            "       [ 1.0000547 ,  1.1177332 ,  0.4267751 ]], dtype=float32)>\n"
          ],
          "name": "stdout"
        }
      ]
    },
    {
      "cell_type": "code",
      "metadata": {
        "id": "90xo4AS150mp",
        "colab_type": "code",
        "colab": {}
      },
      "source": [
        ""
      ],
      "execution_count": null,
      "outputs": []
    },
    {
      "cell_type": "code",
      "metadata": {
        "id": "XrEmx-_D7z7B",
        "colab_type": "code",
        "colab": {
          "base_uri": "https://localhost:8080/",
          "height": 85
        },
        "outputId": "68cfc41f-8bc0-4e62-a700-c9a8374ebc62"
      },
      "source": [
        "tensor = tf.Variable([ [ [10.0,11.0,12.0],[13.0,14.0,15.0],[16.0,17.0,18.0] ] ]) \n",
        "print(tensor)"
      ],
      "execution_count": 103,
      "outputs": [
        {
          "output_type": "stream",
          "text": [
            "<tf.Variable 'Variable:0' shape=(1, 3, 3) dtype=float32, numpy=\n",
            "array([[[10., 11., 12.],\n",
            "        [13., 14., 15.],\n",
            "        [16., 17., 18.]]], dtype=float32)>\n"
          ],
          "name": "stdout"
        }
      ]
    },
    {
      "cell_type": "code",
      "metadata": {
        "id": "WqtXEsUB70MV",
        "colab_type": "code",
        "colab": {
          "base_uri": "https://localhost:8080/",
          "height": 34
        },
        "outputId": "e5dd7484-466c-40ad-b25c-94d8d9fa06c7"
      },
      "source": [
        "print(tensor.shape)"
      ],
      "execution_count": 105,
      "outputs": [
        {
          "output_type": "stream",
          "text": [
            "(1, 3, 3)\n"
          ],
          "name": "stdout"
        }
      ]
    },
    {
      "cell_type": "code",
      "metadata": {
        "id": "haVS868R8LWc",
        "colab_type": "code",
        "colab": {
          "base_uri": "https://localhost:8080/",
          "height": 221
        },
        "outputId": "a6530c04-0b00-4e4b-e392-f2cfc0683897"
      },
      "source": [
        "tensor = tf.Variable([ [ [1,2,3] ,[4,5,6] ]  , [[1,2,3],[4,5,6] ] ])      \n",
        "print(tensor)\n",
        "print(tensor.shape)\n",
        "print(tensor.numpy())\n"
      ],
      "execution_count": 117,
      "outputs": [
        {
          "output_type": "stream",
          "text": [
            "<tf.Variable 'Variable:0' shape=(2, 2, 3) dtype=int32, numpy=\n",
            "array([[[1, 2, 3],\n",
            "        [4, 5, 6]],\n",
            "\n",
            "       [[1, 2, 3],\n",
            "        [4, 5, 6]]], dtype=int32)>\n",
            "(2, 2, 3)\n",
            "[[[1 2 3]\n",
            "  [4 5 6]]\n",
            "\n",
            " [[1 2 3]\n",
            "  [4 5 6]]]\n"
          ],
          "name": "stdout"
        }
      ]
    },
    {
      "cell_type": "markdown",
      "metadata": {
        "id": "Uq9crCMR-Pa4",
        "colab_type": "text"
      },
      "source": [
        "# Reshape"
      ]
    },
    {
      "cell_type": "code",
      "metadata": {
        "id": "zUsSlkRL8nMH",
        "colab_type": "code",
        "colab": {
          "base_uri": "https://localhost:8080/",
          "height": 119
        },
        "outputId": "2ec6b946-f1f3-49b2-940a-9585409e9150"
      },
      "source": [
        "tensor.value"
      ],
      "execution_count": 125,
      "outputs": [
        {
          "output_type": "execute_result",
          "data": {
            "text/plain": [
              "<bound method BaseResourceVariable.value of <tf.Variable 'Variable:0' shape=(2, 2, 3) dtype=int32, numpy=\n",
              "array([[[1, 2, 3],\n",
              "        [4, 5, 6]],\n",
              "\n",
              "       [[1, 2, 3],\n",
              "        [4, 5, 6]]], dtype=int32)>>"
            ]
          },
          "metadata": {
            "tags": []
          },
          "execution_count": 125
        }
      ]
    },
    {
      "cell_type": "code",
      "metadata": {
        "id": "V6rX9mZ6-SW2",
        "colab_type": "code",
        "colab": {
          "base_uri": "https://localhost:8080/",
          "height": 136
        },
        "outputId": "b52dd3ec-b3dc-48e0-f6e3-ad86c8b6e5fc"
      },
      "source": [
        "tensor1 = tf.reshape(tensor,shape=(6,2)) \n",
        "tensor1"
      ],
      "execution_count": 126,
      "outputs": [
        {
          "output_type": "execute_result",
          "data": {
            "text/plain": [
              "<tf.Tensor: shape=(6, 2), dtype=int32, numpy=\n",
              "array([[1, 2],\n",
              "       [3, 4],\n",
              "       [5, 6],\n",
              "       [1, 2],\n",
              "       [3, 4],\n",
              "       [5, 6]], dtype=int32)>"
            ]
          },
          "metadata": {
            "tags": []
          },
          "execution_count": 126
        }
      ]
    },
    {
      "cell_type": "code",
      "metadata": {
        "id": "p2sYlvIi-x48",
        "colab_type": "code",
        "colab": {
          "base_uri": "https://localhost:8080/",
          "height": 34
        },
        "outputId": "d4fa017e-ed04-4af8-fe62-7780abbe4782"
      },
      "source": [
        "tensor2 = tf.reshape(tensor,shape=(1,12)) \n",
        "tensor2.numpy()"
      ],
      "execution_count": 128,
      "outputs": [
        {
          "output_type": "execute_result",
          "data": {
            "text/plain": [
              "array([[1, 2, 3, 4, 5, 6, 1, 2, 3, 4, 5, 6]], dtype=int32)"
            ]
          },
          "metadata": {
            "tags": []
          },
          "execution_count": 128
        }
      ]
    },
    {
      "cell_type": "code",
      "metadata": {
        "id": "rnn1pm_U-8Dk",
        "colab_type": "code",
        "colab": {
          "base_uri": "https://localhost:8080/",
          "height": 85
        },
        "outputId": "03f672b9-f4e4-4098-ae3b-ca9380691c2c"
      },
      "source": [
        "tensor3 = tf.reshape(tensor,shape=(4,-1))    # here only -1 works    other - number is not work\n",
        "tensor3.numpy()"
      ],
      "execution_count": 133,
      "outputs": [
        {
          "output_type": "execute_result",
          "data": {
            "text/plain": [
              "array([[1, 2, 3],\n",
              "       [4, 5, 6],\n",
              "       [1, 2, 3],\n",
              "       [4, 5, 6]], dtype=int32)"
            ]
          },
          "metadata": {
            "tags": []
          },
          "execution_count": 133
        }
      ]
    },
    {
      "cell_type": "code",
      "metadata": {
        "id": "u_CudHsa_F5-",
        "colab_type": "code",
        "colab": {
          "base_uri": "https://localhost:8080/",
          "height": 445
        },
        "outputId": "e700c790-c2b3-4eac-ae2f-dc00278c5f62"
      },
      "source": [
        "tensor4 = tf.reshape(tensor,shape=(1,-12))   # - 123456 number is not works\n",
        "tensor4.numpy()"
      ],
      "execution_count": 135,
      "outputs": [
        {
          "output_type": "error",
          "ename": "InvalidArgumentError",
          "evalue": "ignored",
          "traceback": [
            "\u001b[0;31m---------------------------------------------------------------------------\u001b[0m",
            "\u001b[0;31m_FallbackException\u001b[0m                        Traceback (most recent call last)",
            "\u001b[0;32m/usr/local/lib/python3.6/dist-packages/tensorflow/python/ops/gen_array_ops.py\u001b[0m in \u001b[0;36mreshape\u001b[0;34m(tensor, shape, name)\u001b[0m\n\u001b[1;32m   8074\u001b[0m         \u001b[0m_ctx\u001b[0m\u001b[0;34m.\u001b[0m\u001b[0m_context_handle\u001b[0m\u001b[0;34m,\u001b[0m \u001b[0mtld\u001b[0m\u001b[0;34m.\u001b[0m\u001b[0mdevice_name\u001b[0m\u001b[0;34m,\u001b[0m \u001b[0;34m\"Reshape\"\u001b[0m\u001b[0;34m,\u001b[0m \u001b[0mname\u001b[0m\u001b[0;34m,\u001b[0m\u001b[0;34m\u001b[0m\u001b[0;34m\u001b[0m\u001b[0m\n\u001b[0;32m-> 8075\u001b[0;31m         tld.op_callbacks, tensor, shape)\n\u001b[0m\u001b[1;32m   8076\u001b[0m       \u001b[0;32mreturn\u001b[0m \u001b[0m_result\u001b[0m\u001b[0;34m\u001b[0m\u001b[0;34m\u001b[0m\u001b[0m\n",
            "\u001b[0;31m_FallbackException\u001b[0m: This function does not handle the case of the path where all inputs are not already EagerTensors.",
            "\nDuring handling of the above exception, another exception occurred:\n",
            "\u001b[0;31mInvalidArgumentError\u001b[0m                      Traceback (most recent call last)",
            "\u001b[0;32m<ipython-input-135-3f8210a43146>\u001b[0m in \u001b[0;36m<module>\u001b[0;34m()\u001b[0m\n\u001b[0;32m----> 1\u001b[0;31m \u001b[0mtensor4\u001b[0m \u001b[0;34m=\u001b[0m \u001b[0mtf\u001b[0m\u001b[0;34m.\u001b[0m\u001b[0mreshape\u001b[0m\u001b[0;34m(\u001b[0m\u001b[0mtensor\u001b[0m\u001b[0;34m,\u001b[0m\u001b[0mshape\u001b[0m\u001b[0;34m=\u001b[0m\u001b[0;34m(\u001b[0m\u001b[0;36m1\u001b[0m\u001b[0;34m,\u001b[0m\u001b[0;34m-\u001b[0m\u001b[0;36m12\u001b[0m\u001b[0;34m)\u001b[0m\u001b[0;34m)\u001b[0m   \u001b[0;31m# - 123456 number is not works\u001b[0m\u001b[0;34m\u001b[0m\u001b[0;34m\u001b[0m\u001b[0m\n\u001b[0m\u001b[1;32m      2\u001b[0m \u001b[0mtensor4\u001b[0m\u001b[0;34m.\u001b[0m\u001b[0mnumpy\u001b[0m\u001b[0;34m(\u001b[0m\u001b[0;34m)\u001b[0m\u001b[0;34m\u001b[0m\u001b[0;34m\u001b[0m\u001b[0m\n",
            "\u001b[0;32m/usr/local/lib/python3.6/dist-packages/tensorflow/python/ops/array_ops.py\u001b[0m in \u001b[0;36mreshape\u001b[0;34m(tensor, shape, name)\u001b[0m\n\u001b[1;32m    191\u001b[0m     \u001b[0mA\u001b[0m\u001b[0;31m \u001b[0m\u001b[0;31m`\u001b[0m\u001b[0mTensor\u001b[0m\u001b[0;31m`\u001b[0m\u001b[0;34m.\u001b[0m \u001b[0mHas\u001b[0m \u001b[0mthe\u001b[0m \u001b[0msame\u001b[0m \u001b[0mtype\u001b[0m \u001b[0;32mas\u001b[0m\u001b[0;31m \u001b[0m\u001b[0;31m`\u001b[0m\u001b[0mtensor\u001b[0m\u001b[0;31m`\u001b[0m\u001b[0;34m.\u001b[0m\u001b[0;34m\u001b[0m\u001b[0;34m\u001b[0m\u001b[0m\n\u001b[1;32m    192\u001b[0m   \"\"\"\n\u001b[0;32m--> 193\u001b[0;31m   \u001b[0mresult\u001b[0m \u001b[0;34m=\u001b[0m \u001b[0mgen_array_ops\u001b[0m\u001b[0;34m.\u001b[0m\u001b[0mreshape\u001b[0m\u001b[0;34m(\u001b[0m\u001b[0mtensor\u001b[0m\u001b[0;34m,\u001b[0m \u001b[0mshape\u001b[0m\u001b[0;34m,\u001b[0m \u001b[0mname\u001b[0m\u001b[0;34m)\u001b[0m\u001b[0;34m\u001b[0m\u001b[0;34m\u001b[0m\u001b[0m\n\u001b[0m\u001b[1;32m    194\u001b[0m   \u001b[0mtensor_util\u001b[0m\u001b[0;34m.\u001b[0m\u001b[0mmaybe_set_static_shape\u001b[0m\u001b[0;34m(\u001b[0m\u001b[0mresult\u001b[0m\u001b[0;34m,\u001b[0m \u001b[0mshape\u001b[0m\u001b[0;34m)\u001b[0m\u001b[0;34m\u001b[0m\u001b[0;34m\u001b[0m\u001b[0m\n\u001b[1;32m    195\u001b[0m   \u001b[0;32mreturn\u001b[0m \u001b[0mresult\u001b[0m\u001b[0;34m\u001b[0m\u001b[0;34m\u001b[0m\u001b[0m\n",
            "\u001b[0;32m/usr/local/lib/python3.6/dist-packages/tensorflow/python/ops/gen_array_ops.py\u001b[0m in \u001b[0;36mreshape\u001b[0;34m(tensor, shape, name)\u001b[0m\n\u001b[1;32m   8078\u001b[0m       \u001b[0;32mtry\u001b[0m\u001b[0;34m:\u001b[0m\u001b[0;34m\u001b[0m\u001b[0;34m\u001b[0m\u001b[0m\n\u001b[1;32m   8079\u001b[0m         return reshape_eager_fallback(\n\u001b[0;32m-> 8080\u001b[0;31m             tensor, shape, name=name, ctx=_ctx)\n\u001b[0m\u001b[1;32m   8081\u001b[0m       \u001b[0;32mexcept\u001b[0m \u001b[0m_core\u001b[0m\u001b[0;34m.\u001b[0m\u001b[0m_SymbolicException\u001b[0m\u001b[0;34m:\u001b[0m\u001b[0;34m\u001b[0m\u001b[0;34m\u001b[0m\u001b[0m\n\u001b[1;32m   8082\u001b[0m         \u001b[0;32mpass\u001b[0m  \u001b[0;31m# Add nodes to the TensorFlow graph.\u001b[0m\u001b[0;34m\u001b[0m\u001b[0;34m\u001b[0m\u001b[0m\n",
            "\u001b[0;32m/usr/local/lib/python3.6/dist-packages/tensorflow/python/ops/gen_array_ops.py\u001b[0m in \u001b[0;36mreshape_eager_fallback\u001b[0;34m(tensor, shape, name, ctx)\u001b[0m\n\u001b[1;32m   8105\u001b[0m   \u001b[0m_attrs\u001b[0m \u001b[0;34m=\u001b[0m \u001b[0;34m(\u001b[0m\u001b[0;34m\"T\"\u001b[0m\u001b[0;34m,\u001b[0m \u001b[0m_attr_T\u001b[0m\u001b[0;34m,\u001b[0m \u001b[0;34m\"Tshape\"\u001b[0m\u001b[0;34m,\u001b[0m \u001b[0m_attr_Tshape\u001b[0m\u001b[0;34m)\u001b[0m\u001b[0;34m\u001b[0m\u001b[0;34m\u001b[0m\u001b[0m\n\u001b[1;32m   8106\u001b[0m   _result = _execute.execute(b\"Reshape\", 1, inputs=_inputs_flat, attrs=_attrs,\n\u001b[0;32m-> 8107\u001b[0;31m                              ctx=ctx, name=name)\n\u001b[0m\u001b[1;32m   8108\u001b[0m   \u001b[0;32mif\u001b[0m \u001b[0m_execute\u001b[0m\u001b[0;34m.\u001b[0m\u001b[0mmust_record_gradient\u001b[0m\u001b[0;34m(\u001b[0m\u001b[0;34m)\u001b[0m\u001b[0;34m:\u001b[0m\u001b[0;34m\u001b[0m\u001b[0;34m\u001b[0m\u001b[0m\n\u001b[1;32m   8109\u001b[0m     _execute.record_gradient(\n",
            "\u001b[0;32m/usr/local/lib/python3.6/dist-packages/tensorflow/python/eager/execute.py\u001b[0m in \u001b[0;36mquick_execute\u001b[0;34m(op_name, num_outputs, inputs, attrs, ctx, name)\u001b[0m\n\u001b[1;32m     58\u001b[0m     \u001b[0mctx\u001b[0m\u001b[0;34m.\u001b[0m\u001b[0mensure_initialized\u001b[0m\u001b[0;34m(\u001b[0m\u001b[0;34m)\u001b[0m\u001b[0;34m\u001b[0m\u001b[0;34m\u001b[0m\u001b[0m\n\u001b[1;32m     59\u001b[0m     tensors = pywrap_tfe.TFE_Py_Execute(ctx._handle, device_name, op_name,\n\u001b[0;32m---> 60\u001b[0;31m                                         inputs, attrs, num_outputs)\n\u001b[0m\u001b[1;32m     61\u001b[0m   \u001b[0;32mexcept\u001b[0m \u001b[0mcore\u001b[0m\u001b[0;34m.\u001b[0m\u001b[0m_NotOkStatusException\u001b[0m \u001b[0;32mas\u001b[0m \u001b[0me\u001b[0m\u001b[0;34m:\u001b[0m\u001b[0;34m\u001b[0m\u001b[0;34m\u001b[0m\u001b[0m\n\u001b[1;32m     62\u001b[0m     \u001b[0;32mif\u001b[0m \u001b[0mname\u001b[0m \u001b[0;32mis\u001b[0m \u001b[0;32mnot\u001b[0m \u001b[0;32mNone\u001b[0m\u001b[0;34m:\u001b[0m\u001b[0;34m\u001b[0m\u001b[0;34m\u001b[0m\u001b[0m\n",
            "\u001b[0;31mInvalidArgumentError\u001b[0m: Size 1 must be non-negative, not -12 [Op:Reshape]"
          ]
        }
      ]
    },
    {
      "cell_type": "markdown",
      "metadata": {
        "id": "KJ3YHq-uA81d",
        "colab_type": "text"
      },
      "source": [
        "# Tensor Rank"
      ]
    },
    {
      "cell_type": "markdown",
      "metadata": {
        "id": "jClMvmGNA0Wy",
        "colab_type": "text"
      },
      "source": [
        "#### The rank of tensor is define as the number of dimension , wich is the number of indices that are requried  to specify any perticuller element of that tensor"
      ]
    },
    {
      "cell_type": "code",
      "metadata": {
        "id": "HK4byoIe_icE",
        "colab_type": "code",
        "colab": {
          "base_uri": "https://localhost:8080/",
          "height": 119
        },
        "outputId": "836450a6-b0fd-4810-8a07-ab746fca7396"
      },
      "source": [
        "print(tensor.numpy() )\n",
        "print(tf.rank(tensor))"
      ],
      "execution_count": 137,
      "outputs": [
        {
          "output_type": "stream",
          "text": [
            "[[[1 2 3]\n",
            "  [4 5 6]]\n",
            "\n",
            " [[1 2 3]\n",
            "  [4 5 6]]]\n",
            "tf.Tensor(3, shape=(), dtype=int32)\n"
          ],
          "name": "stdout"
        }
      ]
    },
    {
      "cell_type": "markdown",
      "metadata": {
        "id": "fX8YH5JaBqzp",
        "colab_type": "text"
      },
      "source": [
        "# specify an element of a tensor"
      ]
    },
    {
      "cell_type": "code",
      "metadata": {
        "id": "UkyaPuGwBGbU",
        "colab_type": "code",
        "colab": {
          "base_uri": "https://localhost:8080/",
          "height": 34
        },
        "outputId": "429c259b-d42b-4085-dead-c8478ff194e9"
      },
      "source": [
        "tensor3 = tensor[1,0,2]   # 1 slice   0 row  2 column\n",
        "tensor3.numpy() "
      ],
      "execution_count": 142,
      "outputs": [
        {
          "output_type": "execute_result",
          "data": {
            "text/plain": [
              "3"
            ]
          },
          "metadata": {
            "tags": []
          },
          "execution_count": 142
        }
      ]
    },
    {
      "cell_type": "code",
      "metadata": {
        "id": "JhfFN046BxiD",
        "colab_type": "code",
        "colab": {
          "base_uri": "https://localhost:8080/",
          "height": 102
        },
        "outputId": "95f7ece2-af54-4b52-e062-4a45ffadeb90"
      },
      "source": [
        "tensor.numpy()"
      ],
      "execution_count": 144,
      "outputs": [
        {
          "output_type": "execute_result",
          "data": {
            "text/plain": [
              "array([[[1, 2, 3],\n",
              "        [4, 5, 6]],\n",
              "\n",
              "       [[1, 2, 3],\n",
              "        [4, 5, 6]]], dtype=int32)"
            ]
          },
          "metadata": {
            "tags": []
          },
          "execution_count": 144
        }
      ]
    },
    {
      "cell_type": "code",
      "metadata": {
        "id": "tRXyZ3r4CYie",
        "colab_type": "code",
        "colab": {
          "base_uri": "https://localhost:8080/",
          "height": 34
        },
        "outputId": "4eafe70d-1138-4773-d6a8-4e1eab71be6c"
      },
      "source": [
        "type(tensor.numpy())"
      ],
      "execution_count": 145,
      "outputs": [
        {
          "output_type": "execute_result",
          "data": {
            "text/plain": [
              "numpy.ndarray"
            ]
          },
          "metadata": {
            "tags": []
          },
          "execution_count": 145
        }
      ]
    },
    {
      "cell_type": "markdown",
      "metadata": {
        "id": "k7uRrq_CEkm8",
        "colab_type": "text"
      },
      "source": [
        "# Tensorflow mathematics operation "
      ]
    },
    {
      "cell_type": "code",
      "metadata": {
        "id": "ColpXNTKCnp5",
        "colab_type": "code",
        "colab": {}
      },
      "source": [
        "a = tf.random.normal((2,2)) \n",
        "b = tf.random.normal((2,2))  "
      ],
      "execution_count": 146,
      "outputs": []
    },
    {
      "cell_type": "code",
      "metadata": {
        "id": "IigA50zxE09D",
        "colab_type": "code",
        "colab": {
          "base_uri": "https://localhost:8080/",
          "height": 85
        },
        "outputId": "11d81432-d5dd-4772-be41-ad1f057f24d3"
      },
      "source": [
        "print(a.numpy())\n",
        "print(b.numpy()) "
      ],
      "execution_count": 148,
      "outputs": [
        {
          "output_type": "stream",
          "text": [
            "[[-1.284799   -0.9058731 ]\n",
            " [ 0.33304456  0.4131534 ]]\n",
            "[[ 1.1032935   0.23584598]\n",
            " [-0.29743668  0.79361916]]\n"
          ],
          "name": "stdout"
        }
      ]
    },
    {
      "cell_type": "code",
      "metadata": {
        "id": "taKPivL8E2Cq",
        "colab_type": "code",
        "colab": {
          "base_uri": "https://localhost:8080/",
          "height": 51
        },
        "outputId": "04023cf5-9222-4dc4-c4ce-2462716757d2"
      },
      "source": [
        "c = a+b\n",
        "print(c.numpy()) "
      ],
      "execution_count": 149,
      "outputs": [
        {
          "output_type": "stream",
          "text": [
            "[[-0.18150544 -0.67002714]\n",
            " [ 0.03560787  1.2067726 ]]\n"
          ],
          "name": "stdout"
        }
      ]
    },
    {
      "cell_type": "code",
      "metadata": {
        "id": "POvvh_gKFO-z",
        "colab_type": "code",
        "colab": {
          "base_uri": "https://localhost:8080/",
          "height": 34
        },
        "outputId": "f2c799ff-53fb-4789-950e-2f7d9cfbd79e"
      },
      "source": [
        "-1.284799   +  1.1032935"
      ],
      "execution_count": 150,
      "outputs": [
        {
          "output_type": "execute_result",
          "data": {
            "text/plain": [
              "-0.1815055000000001"
            ]
          },
          "metadata": {
            "tags": []
          },
          "execution_count": 150
        }
      ]
    },
    {
      "cell_type": "code",
      "metadata": {
        "id": "pJ5-U2BYFVsK",
        "colab_type": "code",
        "colab": {
          "base_uri": "https://localhost:8080/",
          "height": 68
        },
        "outputId": "048f5e7d-8ea5-4b09-e8eb-087201bced66"
      },
      "source": [
        "d = tf.square(c)\n",
        "print(d)"
      ],
      "execution_count": 151,
      "outputs": [
        {
          "output_type": "stream",
          "text": [
            "tf.Tensor(\n",
            "[[3.2944225e-02 4.4893637e-01]\n",
            " [1.2679207e-03 1.4563000e+00]], shape=(2, 2), dtype=float32)\n"
          ],
          "name": "stdout"
        }
      ]
    },
    {
      "cell_type": "code",
      "metadata": {
        "id": "NaRZ80McFk8I",
        "colab_type": "code",
        "colab": {
          "base_uri": "https://localhost:8080/",
          "height": 68
        },
        "outputId": "aead483e-4c17-4334-b4eb-f06389c4fe3d"
      },
      "source": [
        "e  = tf.exp(c)\n",
        "print(e)"
      ],
      "execution_count": 153,
      "outputs": [
        {
          "output_type": "stream",
          "text": [
            "tf.Tensor(\n",
            "[[0.8340137  0.51169467]\n",
            " [1.0362494  3.342679  ]], shape=(2, 2), dtype=float32)\n"
          ],
          "name": "stdout"
        }
      ]
    },
    {
      "cell_type": "markdown",
      "metadata": {
        "id": "f4GM1u8JF3u7",
        "colab_type": "text"
      },
      "source": [
        "# Perfrom element wise premitve  operaton"
      ]
    },
    {
      "cell_type": "code",
      "metadata": {
        "id": "ts9MOL8lFqn7",
        "colab_type": "code",
        "colab": {
          "base_uri": "https://localhost:8080/",
          "height": 34
        },
        "outputId": "2e1f983b-1ae7-4230-e0ef-fd7c1c818176"
      },
      "source": [
        "tensor10  = tf.Variable([10,20])  \n",
        "tensor11 = tf.Variable([[10,20]]) \n",
        "print((tensor10*tensor11).numpy()) "
      ],
      "execution_count": 156,
      "outputs": [
        {
          "output_type": "stream",
          "text": [
            "[[100 400]]\n"
          ],
          "name": "stdout"
        }
      ]
    },
    {
      "cell_type": "markdown",
      "metadata": {
        "id": "DJhmy-aMGd-_",
        "colab_type": "text"
      },
      "source": [
        "# Broadcasting in a tensor"
      ]
    },
    {
      "cell_type": "code",
      "metadata": {
        "id": "uyBvz_LaGA6_",
        "colab_type": "code",
        "colab": {
          "base_uri": "https://localhost:8080/",
          "height": 34
        },
        "outputId": "f78ae7c7-5ac0-46f0-c7c8-2b32f27e40d4"
      },
      "source": [
        "tensor12 = tensor10*2\n",
        "print(tensor12)"
      ],
      "execution_count": 157,
      "outputs": [
        {
          "output_type": "stream",
          "text": [
            "tf.Tensor([20 40], shape=(2,), dtype=int32)\n"
          ],
          "name": "stdout"
        }
      ]
    },
    {
      "cell_type": "markdown",
      "metadata": {
        "id": "Gq6te1H_HFYF",
        "colab_type": "text"
      },
      "source": [
        "# Transpose matrix miltiplection "
      ]
    },
    {
      "cell_type": "code",
      "metadata": {
        "id": "eL9ClVlTHBQx",
        "colab_type": "code",
        "colab": {}
      },
      "source": [
        "matrix_u = tf.constant([[1,2,3]]) \n",
        "matrix_v = tf.constant([[4,5,6]]) \n"
      ],
      "execution_count": 162,
      "outputs": []
    },
    {
      "cell_type": "code",
      "metadata": {
        "id": "G2RTVYIOHYOx",
        "colab_type": "code",
        "colab": {
          "base_uri": "https://localhost:8080/",
          "height": 34
        },
        "outputId": "5d385b67-43f8-4516-caa3-349f99db26fa"
      },
      "source": [
        "tf.matmul(matrix_u,tf.transpose(matrix_v))"
      ],
      "execution_count": 163,
      "outputs": [
        {
          "output_type": "execute_result",
          "data": {
            "text/plain": [
              "<tf.Tensor: shape=(1, 1), dtype=int32, numpy=array([[32]], dtype=int32)>"
            ]
          },
          "metadata": {
            "tags": []
          },
          "execution_count": 163
        }
      ]
    },
    {
      "cell_type": "code",
      "metadata": {
        "id": "Aio9Sw-wIPk-",
        "colab_type": "code",
        "colab": {
          "base_uri": "https://localhost:8080/",
          "height": 34
        },
        "outputId": "fdb66ced-a5ac-43c9-c041-a4b5ea079202"
      },
      "source": [
        "14+18"
      ],
      "execution_count": 164,
      "outputs": [
        {
          "output_type": "execute_result",
          "data": {
            "text/plain": [
              "32"
            ]
          },
          "metadata": {
            "tags": []
          },
          "execution_count": 164
        }
      ]
    },
    {
      "cell_type": "markdown",
      "metadata": {
        "id": "LAPHMaG4I5PS",
        "colab_type": "text"
      },
      "source": [
        "# Casting a tensor in some other datatype"
      ]
    },
    {
      "cell_type": "code",
      "metadata": {
        "id": "QzhQjOJyIVlg",
        "colab_type": "code",
        "colab": {
          "base_uri": "https://localhost:8080/",
          "height": 34
        },
        "outputId": "04b463ab-cb2c-48d4-f851-014ab587f555"
      },
      "source": [
        "tf.cast(matrix_u,dtype='float64').numpy()"
      ],
      "execution_count": 166,
      "outputs": [
        {
          "output_type": "execute_result",
          "data": {
            "text/plain": [
              "array([[1., 2., 3.]])"
            ]
          },
          "metadata": {
            "tags": []
          },
          "execution_count": 166
        }
      ]
    },
    {
      "cell_type": "markdown",
      "metadata": {
        "id": "qoRNqAkLIyBX",
        "colab_type": "text"
      },
      "source": [
        ""
      ]
    },
    {
      "cell_type": "markdown",
      "metadata": {
        "id": "EvMAm2K-JViL",
        "colab_type": "text"
      },
      "source": [
        "# Casting with tranction"
      ]
    },
    {
      "cell_type": "code",
      "metadata": {
        "id": "dsv2wjxMJNbN",
        "colab_type": "code",
        "colab": {
          "base_uri": "https://localhost:8080/",
          "height": 34
        },
        "outputId": "c2a2b1d0-6301-43ca-ae63-f0d7f1dba418"
      },
      "source": [
        "tf.cast([4.9],dtype=tf.int32).numpy()   # gives lower value"
      ],
      "execution_count": 169,
      "outputs": [
        {
          "output_type": "execute_result",
          "data": {
            "text/plain": [
              "array([4], dtype=int32)"
            ]
          },
          "metadata": {
            "tags": []
          },
          "execution_count": 169
        }
      ]
    },
    {
      "cell_type": "markdown",
      "metadata": {
        "id": "XRpNtzBnJypI",
        "colab_type": "text"
      },
      "source": [
        "# Ragged array"
      ]
    },
    {
      "cell_type": "code",
      "metadata": {
        "id": "VUCofswMJiRz",
        "colab_type": "code",
        "colab": {
          "base_uri": "https://localhost:8080/",
          "height": 34
        },
        "outputId": "66f9c90c-52d4-42a1-b682-d85e6e1f3427"
      },
      "source": [
        "ragged = tf.ragged.constant([[1,2,3],[] ,[1,2] ,[1]]) \n",
        "ragged"
      ],
      "execution_count": 170,
      "outputs": [
        {
          "output_type": "execute_result",
          "data": {
            "text/plain": [
              "<tf.RaggedTensor [[1, 2, 3], [], [1, 2], [1]]>"
            ]
          },
          "metadata": {
            "tags": []
          },
          "execution_count": 170
        }
      ]
    },
    {
      "cell_type": "code",
      "metadata": {
        "id": "cyjSeqD9KBs0",
        "colab_type": "code",
        "colab": {
          "base_uri": "https://localhost:8080/",
          "height": 306
        },
        "outputId": "671c9dd8-b47b-48a4-fbb3-225ad148c8ca"
      },
      "source": [
        "tf.constant([[1,2],[]])"
      ],
      "execution_count": 172,
      "outputs": [
        {
          "output_type": "error",
          "ename": "ValueError",
          "evalue": "ignored",
          "traceback": [
            "\u001b[0;31m---------------------------------------------------------------------------\u001b[0m",
            "\u001b[0;31mValueError\u001b[0m                                Traceback (most recent call last)",
            "\u001b[0;32m<ipython-input-172-53a4120764a5>\u001b[0m in \u001b[0;36m<module>\u001b[0;34m()\u001b[0m\n\u001b[0;32m----> 1\u001b[0;31m \u001b[0mtf\u001b[0m\u001b[0;34m.\u001b[0m\u001b[0mconstant\u001b[0m\u001b[0;34m(\u001b[0m\u001b[0;34m[\u001b[0m\u001b[0;34m[\u001b[0m\u001b[0;36m1\u001b[0m\u001b[0;34m,\u001b[0m\u001b[0;36m2\u001b[0m\u001b[0;34m]\u001b[0m\u001b[0;34m,\u001b[0m\u001b[0;34m[\u001b[0m\u001b[0;34m]\u001b[0m\u001b[0;34m]\u001b[0m\u001b[0;34m)\u001b[0m\u001b[0;34m\u001b[0m\u001b[0;34m\u001b[0m\u001b[0m\n\u001b[0m",
            "\u001b[0;32m/usr/local/lib/python3.6/dist-packages/tensorflow/python/framework/constant_op.py\u001b[0m in \u001b[0;36mconstant\u001b[0;34m(value, dtype, shape, name)\u001b[0m\n\u001b[1;32m    260\u001b[0m   \"\"\"\n\u001b[1;32m    261\u001b[0m   return _constant_impl(value, dtype, shape, name, verify_shape=False,\n\u001b[0;32m--> 262\u001b[0;31m                         allow_broadcast=True)\n\u001b[0m\u001b[1;32m    263\u001b[0m \u001b[0;34m\u001b[0m\u001b[0m\n\u001b[1;32m    264\u001b[0m \u001b[0;34m\u001b[0m\u001b[0m\n",
            "\u001b[0;32m/usr/local/lib/python3.6/dist-packages/tensorflow/python/framework/constant_op.py\u001b[0m in \u001b[0;36m_constant_impl\u001b[0;34m(value, dtype, shape, name, verify_shape, allow_broadcast)\u001b[0m\n\u001b[1;32m    268\u001b[0m   \u001b[0mctx\u001b[0m \u001b[0;34m=\u001b[0m \u001b[0mcontext\u001b[0m\u001b[0;34m.\u001b[0m\u001b[0mcontext\u001b[0m\u001b[0;34m(\u001b[0m\u001b[0;34m)\u001b[0m\u001b[0;34m\u001b[0m\u001b[0;34m\u001b[0m\u001b[0m\n\u001b[1;32m    269\u001b[0m   \u001b[0;32mif\u001b[0m \u001b[0mctx\u001b[0m\u001b[0;34m.\u001b[0m\u001b[0mexecuting_eagerly\u001b[0m\u001b[0;34m(\u001b[0m\u001b[0;34m)\u001b[0m\u001b[0;34m:\u001b[0m\u001b[0;34m\u001b[0m\u001b[0;34m\u001b[0m\u001b[0m\n\u001b[0;32m--> 270\u001b[0;31m     \u001b[0mt\u001b[0m \u001b[0;34m=\u001b[0m \u001b[0mconvert_to_eager_tensor\u001b[0m\u001b[0;34m(\u001b[0m\u001b[0mvalue\u001b[0m\u001b[0;34m,\u001b[0m \u001b[0mctx\u001b[0m\u001b[0;34m,\u001b[0m \u001b[0mdtype\u001b[0m\u001b[0;34m)\u001b[0m\u001b[0;34m\u001b[0m\u001b[0;34m\u001b[0m\u001b[0m\n\u001b[0m\u001b[1;32m    271\u001b[0m     \u001b[0;32mif\u001b[0m \u001b[0mshape\u001b[0m \u001b[0;32mis\u001b[0m \u001b[0;32mNone\u001b[0m\u001b[0;34m:\u001b[0m\u001b[0;34m\u001b[0m\u001b[0;34m\u001b[0m\u001b[0m\n\u001b[1;32m    272\u001b[0m       \u001b[0;32mreturn\u001b[0m \u001b[0mt\u001b[0m\u001b[0;34m\u001b[0m\u001b[0;34m\u001b[0m\u001b[0m\n",
            "\u001b[0;32m/usr/local/lib/python3.6/dist-packages/tensorflow/python/framework/constant_op.py\u001b[0m in \u001b[0;36mconvert_to_eager_tensor\u001b[0;34m(value, ctx, dtype)\u001b[0m\n\u001b[1;32m     94\u001b[0m       \u001b[0mdtype\u001b[0m \u001b[0;34m=\u001b[0m \u001b[0mdtypes\u001b[0m\u001b[0;34m.\u001b[0m\u001b[0mas_dtype\u001b[0m\u001b[0;34m(\u001b[0m\u001b[0mdtype\u001b[0m\u001b[0;34m)\u001b[0m\u001b[0;34m.\u001b[0m\u001b[0mas_datatype_enum\u001b[0m\u001b[0;34m\u001b[0m\u001b[0;34m\u001b[0m\u001b[0m\n\u001b[1;32m     95\u001b[0m   \u001b[0mctx\u001b[0m\u001b[0;34m.\u001b[0m\u001b[0mensure_initialized\u001b[0m\u001b[0;34m(\u001b[0m\u001b[0;34m)\u001b[0m\u001b[0;34m\u001b[0m\u001b[0;34m\u001b[0m\u001b[0m\n\u001b[0;32m---> 96\u001b[0;31m   \u001b[0;32mreturn\u001b[0m \u001b[0mops\u001b[0m\u001b[0;34m.\u001b[0m\u001b[0mEagerTensor\u001b[0m\u001b[0;34m(\u001b[0m\u001b[0mvalue\u001b[0m\u001b[0;34m,\u001b[0m \u001b[0mctx\u001b[0m\u001b[0;34m.\u001b[0m\u001b[0mdevice_name\u001b[0m\u001b[0;34m,\u001b[0m \u001b[0mdtype\u001b[0m\u001b[0;34m)\u001b[0m\u001b[0;34m\u001b[0m\u001b[0;34m\u001b[0m\u001b[0m\n\u001b[0m\u001b[1;32m     97\u001b[0m \u001b[0;34m\u001b[0m\u001b[0m\n\u001b[1;32m     98\u001b[0m \u001b[0;34m\u001b[0m\u001b[0m\n",
            "\u001b[0;31mValueError\u001b[0m: Can't convert non-rectangular Python sequence to Tensor."
          ]
        }
      ]
    },
    {
      "cell_type": "markdown",
      "metadata": {
        "id": "QbdecYUoLkIu",
        "colab_type": "text"
      },
      "source": [
        "# Squared diffrnce of tensors"
      ]
    },
    {
      "cell_type": "code",
      "metadata": {
        "id": "CIpmzjWFKIN0",
        "colab_type": "code",
        "colab": {
          "base_uri": "https://localhost:8080/",
          "height": 34
        },
        "outputId": "9182f18d-d240-42fb-a807-b4f30a8a177b"
      },
      "source": [
        "varx = [4,5,6,1,2]\n",
        "vary = 8 \n",
        "varz = tf.math.squared_difference(varx,vary)   # Returns (x - y)(x - y) element-wise\n",
        "varz.numpy()"
      ],
      "execution_count": 174,
      "outputs": [
        {
          "output_type": "execute_result",
          "data": {
            "text/plain": [
              "array([16,  9,  4, 49, 36], dtype=int32)"
            ]
          },
          "metadata": {
            "tags": []
          },
          "execution_count": 174
        }
      ]
    },
    {
      "cell_type": "markdown",
      "metadata": {
        "id": "J4YVwzEsMO_A",
        "colab_type": "text"
      },
      "source": [
        "# calculating the mean"
      ]
    },
    {
      "cell_type": "code",
      "metadata": {
        "id": "G07sh2YxL62z",
        "colab_type": "code",
        "colab": {
          "base_uri": "https://localhost:8080/",
          "height": 68
        },
        "outputId": "f02cc5ee-90de-483f-dde4-50304e90c13d"
      },
      "source": [
        "numbers = tf.constant([[1,2,3],[4,5,6]]) \n",
        "numbers\n"
      ],
      "execution_count": 175,
      "outputs": [
        {
          "output_type": "execute_result",
          "data": {
            "text/plain": [
              "<tf.Tensor: shape=(2, 3), dtype=int32, numpy=\n",
              "array([[1, 2, 3],\n",
              "       [4, 5, 6]], dtype=int32)>"
            ]
          },
          "metadata": {
            "tags": []
          },
          "execution_count": 175
        }
      ]
    },
    {
      "cell_type": "code",
      "metadata": {
        "id": "JckPenOvMdP-",
        "colab_type": "code",
        "colab": {
          "base_uri": "https://localhost:8080/",
          "height": 34
        },
        "outputId": "642488eb-6ba2-4fe3-c19f-8253ed270ca6"
      },
      "source": [
        "tf.reduce_mean(input_tensor=numbers).numpy()"
      ],
      "execution_count": 177,
      "outputs": [
        {
          "output_type": "execute_result",
          "data": {
            "text/plain": [
              "3"
            ]
          },
          "metadata": {
            "tags": []
          },
          "execution_count": 177
        }
      ]
    },
    {
      "cell_type": "code",
      "metadata": {
        "id": "cr1mpkmgMmjq",
        "colab_type": "code",
        "colab": {
          "base_uri": "https://localhost:8080/",
          "height": 34
        },
        "outputId": "8429b972-2d64-402f-d604-da2b188c75d8"
      },
      "source": [
        "tf.reduce_max([12,3]).numpy()"
      ],
      "execution_count": 181,
      "outputs": [
        {
          "output_type": "execute_result",
          "data": {
            "text/plain": [
              "12"
            ]
          },
          "metadata": {
            "tags": []
          },
          "execution_count": 181
        }
      ]
    },
    {
      "cell_type": "code",
      "metadata": {
        "id": "9Yeb9kVQMyjs",
        "colab_type": "code",
        "colab": {
          "base_uri": "https://localhost:8080/",
          "height": 34
        },
        "outputId": "309ccdc9-fbf6-4b67-90c4-e32e2f392267"
      },
      "source": [
        "tf.reduce_min([12,3,45,6,44]).numpy()"
      ],
      "execution_count": 183,
      "outputs": [
        {
          "output_type": "execute_result",
          "data": {
            "text/plain": [
              "3"
            ]
          },
          "metadata": {
            "tags": []
          },
          "execution_count": 183
        }
      ]
    },
    {
      "cell_type": "code",
      "metadata": {
        "id": "zN15ftFHNJdz",
        "colab_type": "code",
        "colab": {
          "base_uri": "https://localhost:8080/",
          "height": 34
        },
        "outputId": "b3e7074c-c12b-48ea-b600-bd6cd54fd7d6"
      },
      "source": [
        "tf.reduce_sum([12,2]).numpy()"
      ],
      "execution_count": 185,
      "outputs": [
        {
          "output_type": "execute_result",
          "data": {
            "text/plain": [
              "14"
            ]
          },
          "metadata": {
            "tags": []
          },
          "execution_count": 185
        }
      ]
    },
    {
      "cell_type": "code",
      "metadata": {
        "id": "F3eLjgENNTE0",
        "colab_type": "code",
        "colab": {
          "base_uri": "https://localhost:8080/",
          "height": 34
        },
        "outputId": "dd59b9e3-8ae7-4073-cda6-375bdc3dac53"
      },
      "source": [
        "tf.reduce_prod([4,5,3]).numpy()"
      ],
      "execution_count": 189,
      "outputs": [
        {
          "output_type": "execute_result",
          "data": {
            "text/plain": [
              "60"
            ]
          },
          "metadata": {
            "tags": []
          },
          "execution_count": 189
        }
      ]
    },
    {
      "cell_type": "markdown",
      "metadata": {
        "id": "y32WtTQgOwex",
        "colab_type": "text"
      },
      "source": [
        "# setting the seed"
      ]
    },
    {
      "cell_type": "code",
      "metadata": {
        "id": "P8rW7gIXNcuC",
        "colab_type": "code",
        "colab": {
          "base_uri": "https://localhost:8080/",
          "height": 119
        },
        "outputId": "2594bb21-5b5a-4dfd-a574-0c4c0a120fda"
      },
      "source": [
        "tf.random.set_seed(10) \n",
        "num1 = tf.random.normal((2,3),mean=0.0,stddev=1.0)\n",
        "num2 = tf.random.normal((2,3),mean=0.0,stddev=1.0)\n",
        "print(num1)\n",
        "print(num2) "
      ],
      "execution_count": 192,
      "outputs": [
        {
          "output_type": "stream",
          "text": [
            "tf.Tensor(\n",
            "[[-0.8757808   0.3356369  -0.35219625]\n",
            " [-0.3031456  -0.03882965  0.96529824]], shape=(2, 3), dtype=float32)\n",
            "tf.Tensor(\n",
            "[[ 0.4831794  -0.97205937 -1.8948057 ]\n",
            " [-0.5673938  -1.3298559  -0.4534591 ]], shape=(2, 3), dtype=float32)\n"
          ],
          "name": "stdout"
        }
      ]
    },
    {
      "cell_type": "code",
      "metadata": {
        "id": "x1ogRDkUPP1o",
        "colab_type": "code",
        "colab": {}
      },
      "source": [
        ""
      ],
      "execution_count": null,
      "outputs": []
    },
    {
      "cell_type": "code",
      "metadata": {
        "id": "qiLhkkClQqF5",
        "colab_type": "code",
        "colab": {}
      },
      "source": [
        ""
      ],
      "execution_count": null,
      "outputs": []
    },
    {
      "cell_type": "code",
      "metadata": {
        "id": "uhphhoUOQqQ_",
        "colab_type": "code",
        "colab": {
          "base_uri": "https://localhost:8080/",
          "height": 238
        },
        "outputId": "4597c696-34cb-439a-fc20-539885dd7385"
      },
      "source": [
        "tf.random.set_seed(10)\n",
        "dice1 = tf.Variable(tf.random.uniform([4,1] ,minval=0,maxval=10)) \n",
        "dice2 = tf.Variable(tf.random.uniform([4,1] ,minval=0,maxval=10)) \n",
        "dice3 = dice1+dice2\n",
        "tf.concat([dice1,dice2,dice3] ,axis=0) "
      ],
      "execution_count": 205,
      "outputs": [
        {
          "output_type": "execute_result",
          "data": {
            "text/plain": [
              "<tf.Tensor: shape=(12, 1), dtype=float32, numpy=\n",
              "array([[ 6.4415097],\n",
              "       [ 8.082472 ],\n",
              "       [ 8.976547 ],\n",
              "       [ 6.3689017],\n",
              "       [ 5.5478153],\n",
              "       [ 4.2658195],\n",
              "       [ 1.4140713],\n",
              "       [ 7.0369396],\n",
              "       [11.989325 ],\n",
              "       [12.348291 ],\n",
              "       [10.390618 ],\n",
              "       [13.405842 ]], dtype=float32)>"
            ]
          },
          "metadata": {
            "tags": []
          },
          "execution_count": 205
        }
      ]
    },
    {
      "cell_type": "code",
      "metadata": {
        "id": "34UBBEdYQp-B",
        "colab_type": "code",
        "colab": {
          "base_uri": "https://localhost:8080/",
          "height": 102
        },
        "outputId": "02b5850e-ae76-454a-c8dc-c965be0e0027"
      },
      "source": [
        "tf.concat([dice1,dice2,dice3] ,axis=1) \n"
      ],
      "execution_count": 206,
      "outputs": [
        {
          "output_type": "execute_result",
          "data": {
            "text/plain": [
              "<tf.Tensor: shape=(4, 3), dtype=float32, numpy=\n",
              "array([[ 6.4415097,  5.5478153, 11.989325 ],\n",
              "       [ 8.082472 ,  4.2658195, 12.348291 ],\n",
              "       [ 8.976547 ,  1.4140713, 10.390618 ],\n",
              "       [ 6.3689017,  7.0369396, 13.405842 ]], dtype=float32)>"
            ]
          },
          "metadata": {
            "tags": []
          },
          "execution_count": 206
        }
      ]
    },
    {
      "cell_type": "code",
      "metadata": {
        "id": "l2EAeg3ZQp7x",
        "colab_type": "code",
        "colab": {
          "base_uri": "https://localhost:8080/",
          "height": 272
        },
        "outputId": "1986dbce-e6d0-4d59-c14c-7f937af03b4c"
      },
      "source": [
        "dice1,dice2,dice3\n"
      ],
      "execution_count": 207,
      "outputs": [
        {
          "output_type": "execute_result",
          "data": {
            "text/plain": [
              "(<tf.Variable 'Variable:0' shape=(4, 1) dtype=float32, numpy=\n",
              " array([[6.4415097],\n",
              "        [8.082472 ],\n",
              "        [8.976547 ],\n",
              "        [6.3689017]], dtype=float32)>,\n",
              " <tf.Variable 'Variable:0' shape=(4, 1) dtype=float32, numpy=\n",
              " array([[5.5478153],\n",
              "        [4.2658195],\n",
              "        [1.4140713],\n",
              "        [7.0369396]], dtype=float32)>,\n",
              " <tf.Tensor: shape=(4, 1), dtype=float32, numpy=\n",
              " array([[11.989325],\n",
              "        [12.348291],\n",
              "        [10.390618],\n",
              "        [13.405842]], dtype=float32)>)"
            ]
          },
          "metadata": {
            "tags": []
          },
          "execution_count": 207
        }
      ]
    },
    {
      "cell_type": "code",
      "metadata": {
        "id": "JPMuM6GFRPHW",
        "colab_type": "code",
        "colab": {}
      },
      "source": [
        "t = tf.constant([1,2,3,4,56])"
      ],
      "execution_count": 208,
      "outputs": []
    },
    {
      "cell_type": "code",
      "metadata": {
        "id": "KoZqbNm_RgbK",
        "colab_type": "code",
        "colab": {
          "base_uri": "https://localhost:8080/",
          "height": 34
        },
        "outputId": "96edbe2a-d304-48a9-d102-4b8af9e66934"
      },
      "source": [
        "loc = tf.argmax(t)\n",
        "t[loc].numpy() "
      ],
      "execution_count": 210,
      "outputs": [
        {
          "output_type": "execute_result",
          "data": {
            "text/plain": [
              "56"
            ]
          },
          "metadata": {
            "tags": []
          },
          "execution_count": 210
        }
      ]
    },
    {
      "cell_type": "code",
      "metadata": {
        "id": "aIWYp8cYYT5j",
        "colab_type": "code",
        "colab": {
          "base_uri": "https://localhost:8080/",
          "height": 34
        },
        "outputId": "5473abd5-b69f-4c20-9097-6c4aea9150cb"
      },
      "source": [
        "loc = tf.argmin(t)\n",
        "t[loc].numpy() "
      ],
      "execution_count": 211,
      "outputs": [
        {
          "output_type": "execute_result",
          "data": {
            "text/plain": [
              "1"
            ]
          },
          "metadata": {
            "tags": []
          },
          "execution_count": 211
        }
      ]
    },
    {
      "cell_type": "markdown",
      "metadata": {
        "id": "ozjR1kRoevmg",
        "colab_type": "text"
      },
      "source": [
        "# cheackpoint"
      ]
    },
    {
      "cell_type": "code",
      "metadata": {
        "id": "5iPGJqAoYamr",
        "colab_type": "code",
        "colab": {
          "base_uri": "https://localhost:8080/",
          "height": 68
        },
        "outputId": "0c4bfd2f-519a-4ec1-e9a3-c550a7e87174"
      },
      "source": [
        "variable1 = tf.Variable([[1,2,3],[4,5,6]]) \n",
        "cheakpoint = tf.train.Checkpoint(var = variable1)\n",
        "savepath = cheakpoint.save('./vars')\n",
        "variable1.assign([[0,0,0],[0,0,0]])\n",
        "variable1\n",
        "cheakpoint.restore(savepath)\n",
        "print(variable1) "
      ],
      "execution_count": 215,
      "outputs": [
        {
          "output_type": "stream",
          "text": [
            "<tf.Variable 'Variable:0' shape=(2, 3) dtype=int32, numpy=\n",
            "array([[1, 2, 3],\n",
            "       [4, 5, 6]], dtype=int32)>\n"
          ],
          "name": "stdout"
        }
      ]
    },
    {
      "cell_type": "markdown",
      "metadata": {
        "id": "76K9d5rxhJ1w",
        "colab_type": "text"
      },
      "source": [
        "# Function"
      ]
    },
    {
      "cell_type": "code",
      "metadata": {
        "id": "MWDiTUlafuQN",
        "colab_type": "code",
        "colab": {}
      },
      "source": [
        "def f1(x,y):\n",
        "  return tf.reduce_mean(input_tensor=tf.multiply(x ** 3,6) + y ** 3)\n",
        "func = tf.function(f1) "
      ],
      "execution_count": 219,
      "outputs": []
    },
    {
      "cell_type": "code",
      "metadata": {
        "id": "FmfSMQnWhmlA",
        "colab_type": "code",
        "colab": {
          "base_uri": "https://localhost:8080/",
          "height": 34
        },
        "outputId": "acdd38bd-ac9f-4144-c3ef-7ce45638cfc9"
      },
      "source": [
        "x = tf.constant([3.,-4.])\n",
        "y = tf.constant([1.,4.]) \n",
        "func(x,y)"
      ],
      "execution_count": 220,
      "outputs": [
        {
          "output_type": "execute_result",
          "data": {
            "text/plain": [
              "<tf.Tensor: shape=(), dtype=float32, numpy=-78.5>"
            ]
          },
          "metadata": {
            "tags": []
          },
          "execution_count": 220
        }
      ]
    },
    {
      "cell_type": "code",
      "metadata": {
        "id": "cGOk_Vv0h1ft",
        "colab_type": "code",
        "colab": {
          "base_uri": "https://localhost:8080/",
          "height": 34
        },
        "outputId": "3fb6d6be-87a4-4d05-c1d8-eeff2ef6eff1"
      },
      "source": [
        "func(4,5)"
      ],
      "execution_count": 221,
      "outputs": [
        {
          "output_type": "execute_result",
          "data": {
            "text/plain": [
              "<tf.Tensor: shape=(), dtype=int32, numpy=509>"
            ]
          },
          "metadata": {
            "tags": []
          },
          "execution_count": 221
        }
      ]
    },
    {
      "cell_type": "code",
      "metadata": {
        "id": "adH7Oqk3iRTh",
        "colab_type": "code",
        "colab": {}
      },
      "source": [
        ""
      ],
      "execution_count": null,
      "outputs": []
    },
    {
      "cell_type": "code",
      "metadata": {
        "id": "j-mlRIlJjXzi",
        "colab_type": "code",
        "colab": {}
      },
      "source": [
        ""
      ],
      "execution_count": null,
      "outputs": []
    },
    {
      "cell_type": "code",
      "metadata": {
        "id": "X6zg5QNdjXwE",
        "colab_type": "code",
        "colab": {}
      },
      "source": [
        ""
      ],
      "execution_count": null,
      "outputs": []
    },
    {
      "cell_type": "code",
      "metadata": {
        "id": "zzSzhZYRjXt4",
        "colab_type": "code",
        "colab": {
          "base_uri": "https://localhost:8080/",
          "height": 136
        },
        "outputId": "93b36420-140d-44a3-f227-0c65d0a51a4e"
      },
      "source": [
        "a = tf.random.normal((2,2))\n",
        "b = tf.random.normal((2,2))\n",
        "with tf.GradientTape() as tape:\n",
        "  print(tape.watch(a)) \n",
        "  c = tf.sqrt(tf.square(a) + tf.square(b)) \n",
        "  print(c)\n",
        "  dc_da = tape.gradient(c,a) \n",
        "  print(dc_da)"
      ],
      "execution_count": 222,
      "outputs": [
        {
          "output_type": "stream",
          "text": [
            "None\n",
            "tf.Tensor(\n",
            "[[0.9308666 1.6030818]\n",
            " [0.432032  0.8771298]], shape=(2, 2), dtype=float32)\n",
            "tf.Tensor(\n",
            "[[-0.33435947 -0.96524227]\n",
            " [ 0.8265694  -0.94369376]], shape=(2, 2), dtype=float32)\n"
          ],
          "name": "stdout"
        }
      ]
    },
    {
      "cell_type": "code",
      "metadata": {
        "id": "QcBCjmDvjXrm",
        "colab_type": "code",
        "colab": {}
      },
      "source": [
        ""
      ],
      "execution_count": null,
      "outputs": []
    }
  ]
}