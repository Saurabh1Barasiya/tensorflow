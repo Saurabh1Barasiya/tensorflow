{
  "nbformat": 4,
  "nbformat_minor": 0,
  "metadata": {
    "colab": {
      "name": "Deep_lr_3.ipynb",
      "provenance": [],
      "collapsed_sections": [],
      "mount_file_id": "1s83ypQQ_sJofnidiIyrCJex1F_9pL4ov",
      "authorship_tag": "ABX9TyOhcnsU3ZWK2yGKVVR3NQ3m",
      "include_colab_link": true
    },
    "kernelspec": {
      "name": "python3",
      "display_name": "Python 3"
    },
    "accelerator": "GPU"
  },
  "cells": [
    {
      "cell_type": "markdown",
      "metadata": {
        "id": "view-in-github",
        "colab_type": "text"
      },
      "source": [
        "<a href=\"https://colab.research.google.com/github/Saurabh1Barasiya/tensorflow/blob/master/Deep_lr_3.ipynb\" target=\"_parent\"><img src=\"https://colab.research.google.com/assets/colab-badge.svg\" alt=\"Open In Colab\"/></a>"
      ]
    },
    {
      "cell_type": "code",
      "metadata": {
        "id": "vmlVEab2Hfl8",
        "colab_type": "code",
        "colab": {
          "base_uri": "https://localhost:8080/",
          "height": 34
        },
        "outputId": "21446a72-a36a-46c4-c1b8-4f0fcd3b0698"
      },
      "source": [
        "from keras.models import Sequential\n",
        "from keras.layers import Conv2D,MaxPooling2D,Flatten,Dense\n",
        "import  numpy as np"
      ],
      "execution_count": 1,
      "outputs": [
        {
          "output_type": "stream",
          "text": [
            "Using TensorFlow backend.\n"
          ],
          "name": "stderr"
        }
      ]
    },
    {
      "cell_type": "markdown",
      "metadata": {
        "id": "KKL50GwbIZlA",
        "colab_type": "text"
      },
      "source": [
        "## Load the model"
      ]
    },
    {
      "cell_type": "code",
      "metadata": {
        "id": "4xK2AkTJIDjo",
        "colab_type": "code",
        "colab": {}
      },
      "source": [
        "model = Sequential([\n",
        "                    Conv2D(filters=32,kernel_size=(3,3),padding='valid',input_shape=[64,64,3] ,activation='relu'),\n",
        "                    MaxPooling2D(pool_size=(2,2)),\n",
        "                    Flatten(),\n",
        "                    Dense(units=128,activation='relu'), \n",
        "                    Dense(units=1,activation='sigmoid')\n",
        "                        \n",
        "                  \n",
        "])"
      ],
      "execution_count": 27,
      "outputs": []
    },
    {
      "cell_type": "code",
      "metadata": {
        "id": "0CrMFhWuJCvd",
        "colab_type": "code",
        "colab": {
          "base_uri": "https://localhost:8080/",
          "height": 323
        },
        "outputId": "f5743c9f-198d-42e0-dabe-a23c32d55a6b"
      },
      "source": [
        "model.summary()"
      ],
      "execution_count": 28,
      "outputs": [
        {
          "output_type": "stream",
          "text": [
            "Model: \"sequential_6\"\n",
            "_________________________________________________________________\n",
            "Layer (type)                 Output Shape              Param #   \n",
            "=================================================================\n",
            "conv2d_8 (Conv2D)            (None, 62, 62, 32)        896       \n",
            "_________________________________________________________________\n",
            "max_pooling2d_7 (MaxPooling2 (None, 31, 31, 32)        0         \n",
            "_________________________________________________________________\n",
            "flatten_6 (Flatten)          (None, 30752)             0         \n",
            "_________________________________________________________________\n",
            "dense_15 (Dense)             (None, 128)               3936384   \n",
            "_________________________________________________________________\n",
            "dense_16 (Dense)             (None, 1)                 129       \n",
            "=================================================================\n",
            "Total params: 3,937,409\n",
            "Trainable params: 3,937,409\n",
            "Non-trainable params: 0\n",
            "_________________________________________________________________\n"
          ],
          "name": "stdout"
        }
      ]
    },
    {
      "cell_type": "code",
      "metadata": {
        "id": "KXPnDCaMKm0L",
        "colab_type": "code",
        "colab": {}
      },
      "source": [
        "model.compile(optimizer='adam',loss = 'binary_crossentropy',metrics=['accuracy'])"
      ],
      "execution_count": 29,
      "outputs": []
    },
    {
      "cell_type": "code",
      "metadata": {
        "id": "NDMaqWR-KqzG",
        "colab_type": "code",
        "colab": {}
      },
      "source": [
        "from keras.preprocessing.image import ImageDataGenerator\n",
        "train_datagen = ImageDataGenerator(1./255) \n",
        "test_datagen = ImageDataGenerator(1./255) "
      ],
      "execution_count": 30,
      "outputs": []
    },
    {
      "cell_type": "code",
      "metadata": {
        "id": "yaAFLXR8LrUd",
        "colab_type": "code",
        "colab": {
          "base_uri": "https://localhost:8080/",
          "height": 51
        },
        "outputId": "c3b7db7d-85ae-4c60-9e41-9896bc08d572"
      },
      "source": [
        "tranning_set = train_datagen.flow_from_directory('/content/drive/My Drive/parent',target_size=(64,64),batch_size=32, class_mode = 'binary')\n",
        "test_set = test_datagen.flow_from_directory('/content/drive/My Drive/parent',target_size=(64,64),batch_size=32, class_mode = 'binary')"
      ],
      "execution_count": 33,
      "outputs": [
        {
          "output_type": "stream",
          "text": [
            "Found 33 images belonging to 3 classes.\n",
            "Found 33 images belonging to 3 classes.\n"
          ],
          "name": "stdout"
        }
      ]
    },
    {
      "cell_type": "code",
      "metadata": {
        "id": "T9ZB4JK5MgJV",
        "colab_type": "code",
        "colab": {
          "base_uri": "https://localhost:8080/",
          "height": 428
        },
        "outputId": "dee2d930-b516-4df3-d9d0-b4271d5e6999"
      },
      "source": [
        "model.fit_generator(tranning_set,steps_per_epoch=2000,epochs=10,verbose=1,validation_data=test_set)"
      ],
      "execution_count": 34,
      "outputs": [
        {
          "output_type": "stream",
          "text": [
            "Epoch 1/10\n"
          ],
          "name": "stdout"
        },
        {
          "output_type": "stream",
          "text": [
            "/usr/local/lib/python3.6/dist-packages/keras_preprocessing/image/image_data_generator.py:720: UserWarning: This ImageDataGenerator specifies `featurewise_center`, but it hasn't been fit on any training data. Fit it first by calling `.fit(numpy_data)`.\n",
            "  warnings.warn('This ImageDataGenerator specifies '\n"
          ],
          "name": "stderr"
        },
        {
          "output_type": "stream",
          "text": [
            "2000/2000 [==============================] - 134s 67ms/step - loss: -18879830.4473 - accuracy: 0.3832 - val_loss: 10300708.0000 - val_accuracy: 0.3636\n",
            "Epoch 2/10\n",
            "2000/2000 [==============================] - 133s 66ms/step - loss: -205922668.7379 - accuracy: 0.4051 - val_loss: 0.0000e+00 - val_accuracy: 0.3333\n",
            "Epoch 3/10\n",
            "2000/2000 [==============================] - 127s 63ms/step - loss: -965285322.1611 - accuracy: 0.3833 - val_loss: -6156659200.0000 - val_accuracy: 0.3939\n",
            "Epoch 4/10\n",
            "2000/2000 [==============================] - 124s 62ms/step - loss: -2082066877.1284 - accuracy: 0.4042 - val_loss: -5950132224.0000 - val_accuracy: 0.3939\n",
            "Epoch 5/10\n",
            "2000/2000 [==============================] - 133s 66ms/step - loss: -3814615235.5374 - accuracy: 0.3965 - val_loss: 0.0000e+00 - val_accuracy: 0.4242\n",
            "Epoch 6/10\n",
            "2000/2000 [==============================] - 132s 66ms/step - loss: -7523014748.3954 - accuracy: 0.3777 - val_loss: 0.0000e+00 - val_accuracy: 0.3636\n",
            "Epoch 7/10\n",
            "2000/2000 [==============================] - 134s 67ms/step - loss: -10039970485.7994 - accuracy: 0.3908 - val_loss: 0.0000e+00 - val_accuracy: 0.4242\n",
            "Epoch 8/10\n",
            "2000/2000 [==============================] - 125s 63ms/step - loss: -13108810529.2722 - accuracy: 0.4035 - val_loss: -34220863488.0000 - val_accuracy: 0.4242\n",
            "Epoch 9/10\n",
            "2000/2000 [==============================] - 124s 62ms/step - loss: -20856492510.1715 - accuracy: 0.4065 - val_loss: -93474537472.0000 - val_accuracy: 0.3939\n",
            "Epoch 10/10\n",
            "2000/2000 [==============================] - 131s 65ms/step - loss: -25534799735.7354 - accuracy: 0.4009 - val_loss: 182746988544.0000 - val_accuracy: 0.3636\n"
          ],
          "name": "stdout"
        },
        {
          "output_type": "execute_result",
          "data": {
            "text/plain": [
              "<keras.callbacks.callbacks.History at 0x7fd9e539e780>"
            ]
          },
          "metadata": {
            "tags": []
          },
          "execution_count": 34
        }
      ]
    },
    {
      "cell_type": "code",
      "metadata": {
        "id": "q37ipTOqNOEB",
        "colab_type": "code",
        "colab": {
          "base_uri": "https://localhost:8080/",
          "height": 34
        },
        "outputId": "1eb44eb3-1593-44f0-cbc3-df463b9a5c0d"
      },
      "source": [
        "from keras.preprocessing import image\n",
        "test_image = image.load_img('/content/drive/My Drive/parent/Lion/download (1).jpg',target_size=(64,64))\n",
        "test_iamge = image.img_to_array(test_image)\n",
        "test_iamge = np.expand_dims(test_iamge,axis=0)\n",
        "result = model.predict(test_iamge)\n",
        "tranning_set.class_indices\n",
        "if result[0][0] == 1:\n",
        "    prediction = 'dog'\n",
        "    print(prediction)\n",
        "elif result[0][0] == 0:\n",
        "    prediction = 'cat'\n",
        "    print(prediction)\n",
        "else:\n",
        "    prediction = 'Lion'\n",
        "    print(prediction)"
      ],
      "execution_count": 10,
      "outputs": [
        {
          "output_type": "stream",
          "text": [
            "dog\n"
          ],
          "name": "stdout"
        }
      ]
    },
    {
      "cell_type": "code",
      "metadata": {
        "id": "KjaWxNNqWbca",
        "colab_type": "code",
        "colab": {
          "base_uri": "https://localhost:8080/",
          "height": 34
        },
        "outputId": "c6808871-7aba-48ec-e160-f74e091f920a"
      },
      "source": [
        "tranning_set.class_indices"
      ],
      "execution_count": 11,
      "outputs": [
        {
          "output_type": "execute_result",
          "data": {
            "text/plain": [
              "{'Cat': 0, 'Dog': 1, 'Lion': 2}"
            ]
          },
          "metadata": {
            "tags": []
          },
          "execution_count": 11
        }
      ]
    },
    {
      "cell_type": "code",
      "metadata": {
        "id": "gjPWoyCeWxOz",
        "colab_type": "code",
        "colab": {}
      },
      "source": [
        ""
      ],
      "execution_count": 9,
      "outputs": []
    },
    {
      "cell_type": "code",
      "metadata": {
        "id": "0Fta2PuDZQLI",
        "colab_type": "code",
        "colab": {}
      },
      "source": [
        ""
      ],
      "execution_count": 9,
      "outputs": []
    }
  ]
}